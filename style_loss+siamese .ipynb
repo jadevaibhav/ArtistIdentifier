{
  "nbformat": 4,
  "nbformat_minor": 0,
  "metadata": {
    "colab": {
      "name": "style_loss+siamese.ipynb",
      "version": "0.3.2",
      "provenance": [],
      "collapsed_sections": []
    },
    "kernelspec": {
      "name": "python3",
      "display_name": "Python 3"
    },
    "accelerator": "GPU"
  },
  "cells": [
    {
      "metadata": {
        "id": "4XVCI5_G7yaH",
        "colab_type": "code",
        "colab": {
          "base_uri": "https://localhost:8080/",
          "height": 68
        },
        "outputId": "c5daee12-3d16-48ab-e0ae-654fe5029025"
      },
      "cell_type": "code",
      "source": [
        "import keras\n",
        "import keras.backend as K\n",
        "import numpy as np\n",
        "import keras\n",
        "from keras import layers\n",
        "from keras.layers import Input, Add, Dense, Activation, ZeroPadding2D, BatchNormalization, Flatten, Conv2D, AveragePooling2D, MaxPooling2D, GlobalMaxPooling2D,Dropout, Reshape,Concatenate\n",
        "from keras.models import Model, load_model,Sequential\n",
        "model = keras.applications.vgg16.VGG16(include_top=False, weights='imagenet',input_shape = (224,224,3))\n",
        "\n",
        "layer_dict = dict([(layer.name, layer) for layer in model.layers])"
      ],
      "execution_count": 1,
      "outputs": [
        {
          "output_type": "stream",
          "text": [
            "Using TensorFlow backend.\n"
          ],
          "name": "stderr"
        },
        {
          "output_type": "stream",
          "text": [
            "Downloading data from https://github.com/fchollet/deep-learning-models/releases/download/v0.1/vgg16_weights_tf_dim_ordering_tf_kernels_notop.h5\n",
            "58892288/58889256 [==============================] - 3s 0us/step\n"
          ],
          "name": "stdout"
        }
      ]
    },
    {
      "metadata": {
        "id": "uvytH8bRJVMx",
        "colab_type": "code",
        "colab": {
          "base_uri": "https://localhost:8080/",
          "height": 782
        },
        "outputId": "58d7068e-21a3-4646-996d-5be25c64a92b"
      },
      "cell_type": "code",
      "source": [
        "model.summary()"
      ],
      "execution_count": 2,
      "outputs": [
        {
          "output_type": "stream",
          "text": [
            "_________________________________________________________________\n",
            "Layer (type)                 Output Shape              Param #   \n",
            "=================================================================\n",
            "input_1 (InputLayer)         (None, 224, 224, 3)       0         \n",
            "_________________________________________________________________\n",
            "block1_conv1 (Conv2D)        (None, 224, 224, 64)      1792      \n",
            "_________________________________________________________________\n",
            "block1_conv2 (Conv2D)        (None, 224, 224, 64)      36928     \n",
            "_________________________________________________________________\n",
            "block1_pool (MaxPooling2D)   (None, 112, 112, 64)      0         \n",
            "_________________________________________________________________\n",
            "block2_conv1 (Conv2D)        (None, 112, 112, 128)     73856     \n",
            "_________________________________________________________________\n",
            "block2_conv2 (Conv2D)        (None, 112, 112, 128)     147584    \n",
            "_________________________________________________________________\n",
            "block2_pool (MaxPooling2D)   (None, 56, 56, 128)       0         \n",
            "_________________________________________________________________\n",
            "block3_conv1 (Conv2D)        (None, 56, 56, 256)       295168    \n",
            "_________________________________________________________________\n",
            "block3_conv2 (Conv2D)        (None, 56, 56, 256)       590080    \n",
            "_________________________________________________________________\n",
            "block3_conv3 (Conv2D)        (None, 56, 56, 256)       590080    \n",
            "_________________________________________________________________\n",
            "block3_pool (MaxPooling2D)   (None, 28, 28, 256)       0         \n",
            "_________________________________________________________________\n",
            "block4_conv1 (Conv2D)        (None, 28, 28, 512)       1180160   \n",
            "_________________________________________________________________\n",
            "block4_conv2 (Conv2D)        (None, 28, 28, 512)       2359808   \n",
            "_________________________________________________________________\n",
            "block4_conv3 (Conv2D)        (None, 28, 28, 512)       2359808   \n",
            "_________________________________________________________________\n",
            "block4_pool (MaxPooling2D)   (None, 14, 14, 512)       0         \n",
            "_________________________________________________________________\n",
            "block5_conv1 (Conv2D)        (None, 14, 14, 512)       2359808   \n",
            "_________________________________________________________________\n",
            "block5_conv2 (Conv2D)        (None, 14, 14, 512)       2359808   \n",
            "_________________________________________________________________\n",
            "block5_conv3 (Conv2D)        (None, 14, 14, 512)       2359808   \n",
            "_________________________________________________________________\n",
            "block5_pool (MaxPooling2D)   (None, 7, 7, 512)         0         \n",
            "=================================================================\n",
            "Total params: 14,714,688\n",
            "Trainable params: 14,714,688\n",
            "Non-trainable params: 0\n",
            "_________________________________________________________________\n"
          ],
          "name": "stdout"
        }
      ]
    },
    {
      "metadata": {
        "id": "KjKMAyuu9MRo",
        "colab_type": "code",
        "colab": {}
      },
      "cell_type": "code",
      "source": [
        "import keras\n",
        "import tensorflow as tf"
      ],
      "execution_count": 0,
      "outputs": []
    },
    {
      "metadata": {
        "id": "ErgSmTHU8AiS",
        "colab_type": "code",
        "colab": {
          "base_uri": "https://localhost:8080/",
          "height": 102
        },
        "outputId": "40a717be-4d89-4604-c4f2-93dc8ec02ff4"
      },
      "cell_type": "code",
      "source": [
        "#vgg.summary()\n",
        "for layer in model.layers:\n",
        "  if(layer.name in STYLE_LAYERS):\n",
        "    print(layer.name)"
      ],
      "execution_count": 20,
      "outputs": [
        {
          "output_type": "stream",
          "text": [
            "block1_pool\n",
            "block2_pool\n",
            "block3_pool\n",
            "block4_pool\n",
            "block5_pool\n"
          ],
          "name": "stdout"
        }
      ]
    },
    {
      "metadata": {
        "id": "sTgoSdlvJLfP",
        "colab_type": "code",
        "colab": {}
      },
      "cell_type": "code",
      "source": [
        "layer_dict"
      ],
      "execution_count": 0,
      "outputs": []
    },
    {
      "metadata": {
        "id": "ngZPJogF9kaE",
        "colab_type": "code",
        "colab": {}
      },
      "cell_type": "code",
      "source": [
        "# GRADED FUNCTION: compute_layer_style_cost\n",
        "\n",
        "def compute_layer_style_cost(a_S, a_G):\n",
        "    \"\"\"\n",
        "    Arguments:\n",
        "    a_S -- tensor of dimension (1, n_H, n_W, n_C), hidden layer activations representing style of the image S \n",
        "    a_G -- tensor of dimension (1, n_H, n_W, n_C), hidden layer activations representing style of the image G\n",
        "    \n",
        "    Returns: \n",
        "    J_style_layer -- tensor representing a scalar value, style cost defined above by equation (2)\n",
        "    \"\"\"\n",
        "    \n",
        "    ### START CODE HERE ###\n",
        "    # Retrieve dimensions from a_G (≈1 line)\n",
        "    (m,n_H, n_W, n_C) = a_G.get_shape().as_list()\n",
        "    #print(m,n_C,n_H)\n",
        "    #print(a_G.shape[1])\n",
        "    \n",
        "    #a_G = tf.convert_to_tensor(a_G)\n",
        "    #a_S = tf.convert_to_tensor(a_S)\n",
        "    \n",
        "    #print(tf.transpose(a_S,perm=[0,3,2,1]).shape)\n",
        "    \n",
        "    # Reshape the images to have them of shape (n_C, n_H*n_W) (≈2 lines)\n",
        "    a_S = tf.reshape(tf.transpose(a_S,perm=[0,3,2,1]),tf.TensorShape([n_C,n_H*n_W]))\n",
        "    a_G = tf.reshape(tf.transpose(a_G,perm=[0,3,2,1]),tf.TensorShape([n_C,n_H*n_W]))\n",
        "\n",
        "    # Computing gram_matrices for both images S and G (≈2 lines)\n",
        "    GS = gram_matrix(a_S)\n",
        "    GG = gram_matrix(a_G)\n",
        "    \n",
        "    # Computing the loss (≈1 line)\n",
        "    J_style_layer = tf.reduce_sum(tf.square(tf.subtract(GS,GG)))/(4*(n_C**2)*((n_H*n_W)**2))\n",
        "    \n",
        "    ### END CODE HERE ###\n",
        "    \n",
        "    return J_style_layer"
      ],
      "execution_count": 0,
      "outputs": []
    },
    {
      "metadata": {
        "id": "Nu-onjMd9khO",
        "colab_type": "code",
        "colab": {}
      },
      "cell_type": "code",
      "source": [
        "# GRADED FUNCTION: gram_matrix\n",
        "\n",
        "def gram_matrix(A):\n",
        "    \"\"\"\n",
        "    Argument:\n",
        "    A -- matrix of shape (n_C, n_H*n_W)\n",
        "    \n",
        "    Returns:\n",
        "    GA -- Gram matrix of A, of shape (n_C, n_C)\n",
        "    \"\"\"\n",
        "    \n",
        "    ### START CODE HERE ### (≈1 line)\n",
        "    GA = tf.matmul(A,tf.transpose(A))\n",
        "    ### END CODE HERE ###\n",
        "    \n",
        "    return GA"
      ],
      "execution_count": 0,
      "outputs": []
    },
    {
      "metadata": {
        "id": "LkHxvCER8DFJ",
        "colab_type": "code",
        "colab": {}
      },
      "cell_type": "code",
      "source": [
        "STYLE_LAYERS = [\n",
        "    'block1_pool', \n",
        "    'block2_pool', \n",
        "    'block3_pool', \n",
        "    'block4_pool',\n",
        "    'block5_pool']"
      ],
      "execution_count": 0,
      "outputs": []
    },
    {
      "metadata": {
        "id": "8Pg-9fSzFI9p",
        "colab_type": "code",
        "colab": {}
      },
      "cell_type": "code",
      "source": [
        "def multi_model(model):\n",
        "  \n",
        "  output = []\n",
        "  \n",
        "  for layer_name in STYLE_LAYERS:\n",
        "    \n",
        "    out = model.get_layer(layer_name).output\n",
        "    #print(type(out))\n",
        "    #out = Reshape((out.shape[1],out.shape[2],out.shape[3]))(out)\n",
        "    #print(type(out))\n",
        "    output.append(out) \n",
        "  #output = tf.convert_to_tensor(output)\n",
        "  m = Model(inputs= model.input ,outputs=output)\n",
        "  return m"
      ],
      "execution_count": 0,
      "outputs": []
    },
    {
      "metadata": {
        "id": "cANch9_NQ2qm",
        "colab_type": "code",
        "colab": {}
      },
      "cell_type": "code",
      "source": [
        "def art_model(in_shape,model):\n",
        "  \n",
        "  mod = multi_model(model)\n",
        "  \n",
        "  in1 = Input(in_shape)\n",
        "  in2 = Input(in_shape)\n",
        "  #print(type(in1))\n",
        "  a_a = mod(in1)\n",
        "  a_s = mod(in2)\n",
        "  \n",
        "  #print(a_s[0].shape)\n",
        "  #print(a_s[0])\n",
        "  \n",
        "  out1 = Concatenate(axis = 1)([a_a[0],a_s[0]])\n",
        "  out2 = Concatenate(axis = 1)([a_a[1],a_s[1]])\n",
        "  out3 = Concatenate(axis = 1)([a_a[2],a_s[2]])\n",
        "  out4 = Concatenate(axis = 1)([a_a[3],a_s[3]])\n",
        "  out5 = Concatenate(axis = 1)([a_a[4],a_s[4]])\n",
        "  \n",
        "  #print(out1.shape)\n",
        "  m = Model(inputs = [in1,in2],outputs = [out1,out2,out3,out4,out5])\n",
        "  return m"
      ],
      "execution_count": 0,
      "outputs": []
    },
    {
      "metadata": {
        "id": "zFXZFEvUTQNc",
        "colab_type": "code",
        "colab": {}
      },
      "cell_type": "code",
      "source": [
        "import tensorflow as tf\n",
        "def style_loss(y_true, y_pred):\n",
        "    \"\"\"\n",
        "    Implementation of the triplet loss as defined by formula (3)\n",
        "    \n",
        "    Arguments:\n",
        "    y_true -- true labels, required when you define a loss in Keras, you don't need it in this function.\n",
        "    y_pred -- python list containing three objects:\n",
        "            anchor -- the encodings for the anchor images, of shape (None, 128)\n",
        "            positive -- the encodings for the positive images, of shape (None, 128)\n",
        "            negative -- the encodings for the negative images, of shape (None, 128)\n",
        "    \n",
        "    Returns:\n",
        "    loss -- real number, value of the loss\n",
        "    \"\"\"\n",
        "    \n",
        "    #anchor, positive, negative = y_pred[:,0,:], y_pred[:,1,:], y_pred[:,2,:]\n",
        "    \n",
        "    #print(y_pred.shape)\n",
        "    shape = y_pred.shape\n",
        "    l = int(int(shape[1])*(0.5))\n",
        "    y1 = y_pred[:,0:l,:,:]\n",
        "    y2 = y_pred[:,l:,:,:]\n",
        "    #print(y1)    \n",
        "\n",
        "    J_style = compute_layer_style_cost(y1,y2)\n",
        "    \n",
        "    #for i in range(len(STYLE_LAYERS)):\n",
        "      \n",
        "      #cost = compute_layer_style_cost(y_pred[i,0,:,:],y_pred[i,1,:,:])\n",
        "      #J_style += cost\n",
        "   \n",
        "    \n",
        "    ### START CODE HERE ### (≈ 4 lines)\n",
        "    # Step 1: Compute the (encoding) distance between the anchor and the positive\n",
        "    #pos_dist = tf.reduce_sum(tf.square(anchor - positive))\n",
        "    # Step 2: Compute the (encoding) distance between the anchor and the negative\n",
        "    #neg_dist = tf.reduce_sum(tf.square(anchor - negative))\n",
        "    # Step 3: subtract the two previous distances and add alpha.\n",
        "    #basic_loss = pos_dist - neg_dist + alpha\n",
        "    # Step 4: Take the maximum of basic_loss and 0.0. Sum over the training examples.\n",
        "    #loss = tf.maximum(basic_loss, 0)\n",
        "    ### END CODE HERE ###\n",
        "    \n",
        "    return J_style"
      ],
      "execution_count": 0,
      "outputs": []
    },
    {
      "metadata": {
        "id": "gFIhMPCsS009",
        "colab_type": "code",
        "colab": {
          "base_uri": "https://localhost:8080/",
          "height": 510
        },
        "outputId": "84ab05b6-536e-472f-9acf-92059f2b481e"
      },
      "cell_type": "code",
      "source": [
        "m = art_model((224,224,3),model)\n",
        "m.compile(optimizer= 'adam', loss = style_loss , metrics = None)\n",
        "m.summary()"
      ],
      "execution_count": 297,
      "outputs": [
        {
          "output_type": "stream",
          "text": [
            "__________________________________________________________________________________________________\n",
            "Layer (type)                    Output Shape         Param #     Connected to                     \n",
            "==================================================================================================\n",
            "input_118 (InputLayer)          (None, 224, 224, 3)  0                                            \n",
            "__________________________________________________________________________________________________\n",
            "input_119 (InputLayer)          (None, 224, 224, 3)  0                                            \n",
            "__________________________________________________________________________________________________\n",
            "model_105 (Model)               [(None, 112, 112, 64 14714688    input_118[0][0]                  \n",
            "                                                                 input_119[0][0]                  \n",
            "__________________________________________________________________________________________________\n",
            "concatenate_243 (Concatenate)   (None, 224, 112, 64) 0           model_105[1][0]                  \n",
            "                                                                 model_105[2][0]                  \n",
            "__________________________________________________________________________________________________\n",
            "concatenate_244 (Concatenate)   (None, 112, 56, 128) 0           model_105[1][1]                  \n",
            "                                                                 model_105[2][1]                  \n",
            "__________________________________________________________________________________________________\n",
            "concatenate_245 (Concatenate)   (None, 56, 28, 256)  0           model_105[1][2]                  \n",
            "                                                                 model_105[2][2]                  \n",
            "__________________________________________________________________________________________________\n",
            "concatenate_246 (Concatenate)   (None, 28, 14, 512)  0           model_105[1][3]                  \n",
            "                                                                 model_105[2][3]                  \n",
            "__________________________________________________________________________________________________\n",
            "concatenate_247 (Concatenate)   (None, 14, 7, 512)   0           model_105[1][4]                  \n",
            "                                                                 model_105[2][4]                  \n",
            "==================================================================================================\n",
            "Total params: 14,714,688\n",
            "Trainable params: 14,714,688\n",
            "Non-trainable params: 0\n",
            "__________________________________________________________________________________________________\n"
          ],
          "name": "stdout"
        }
      ]
    },
    {
      "metadata": {
        "id": "IPT31NzSyp3G",
        "colab_type": "code",
        "colab": {}
      },
      "cell_type": "code",
      "source": [
        "import cv2\n",
        "import random"
      ],
      "execution_count": 0,
      "outputs": []
    },
    {
      "metadata": {
        "id": "to0LsCQYy-ME",
        "colab_type": "code",
        "colab": {}
      },
      "cell_type": "code",
      "source": [
        "!apt-get install -y -qq software-properties-common python-software-properties module-init-tools\n",
        "!add-apt-repository -y ppa:alessandro-strada/ppa 2>&1 > /dev/null\n",
        "!apt-get update -qq 2>&1 > /dev/null\n",
        "!apt-get -y install -qq google-drive-ocamlfuse fuse\n",
        "from google.colab import auth\n",
        "auth.authenticate_user()\n",
        "from oauth2client.client import GoogleCredentials\n",
        "creds = GoogleCredentials.get_application_default()\n",
        "import getpass\n",
        "!google-drive-ocamlfuse -headless -id={creds.client_id} -secret={creds.client_secret} < /dev/null 2>&1 | grep URL\n",
        "vcode = getpass.getpass()\n",
        "!echo {vcode} | google-drive-ocamlfuse -headless -id={creds.client_id} -secret={creds.client_secret}\n"
      ],
      "execution_count": 0,
      "outputs": []
    },
    {
      "metadata": {
        "id": "E2dzhAEWzE_4",
        "colab_type": "code",
        "colab": {}
      },
      "cell_type": "code",
      "source": [
        "!mkdir -p drive\n",
        "!google-drive-ocamlfuse drive"
      ],
      "execution_count": 0,
      "outputs": []
    },
    {
      "metadata": {
        "id": "2qgP48r5zzk6",
        "colab_type": "code",
        "colab": {}
      },
      "cell_type": "code",
      "source": [
        "import os\n",
        "os.chdir('drive/nnfl/NNFL')"
      ],
      "execution_count": 0,
      "outputs": []
    },
    {
      "metadata": {
        "id": "mdDJ2Ahu0AFG",
        "colab_type": "code",
        "colab": {
          "base_uri": "https://localhost:8080/",
          "height": 187
        },
        "outputId": "58c53ef4-0cc4-4023-c9a2-f3ec6faf0dae"
      },
      "cell_type": "code",
      "source": [
        "!ls"
      ],
      "execution_count": 304,
      "outputs": [
        {
          "output_type": "stream",
          "text": [
            "Aleksey_Savrasov      Michelangelo\t   siam_resnet.h5\r\n",
            "artist_siamese.ipynb  Pablo_Picasso\t   siam_resnet_with_softmax.h5\r\n",
            "Claude_Monet\t      Paul_Cezanne\t   style_loss+siamese.ipynb\r\n",
            "code\t\t      Pierre_Renoir\t   test.h5\r\n",
            "comparison.ipynb      preprocessing.ipynb  tranfer_resnet.h5\r\n",
            "data.h5\t\t      Rembrandt\t\t   transfer_resnet50.ipynb\r\n",
            "data_x.h5\t      resnet50+dropout.h5  Van_Gogh\r\n",
            "data_x.pickle\t      resnet50.h5\t   Wassily_Kandisky\r\n",
            "Da_Vinci\t      resnet50.ipynb\r\n",
            "Frida_Kahlo\t      Salvador_Dali\r\n"
          ],
          "name": "stdout"
        }
      ]
    },
    {
      "metadata": {
        "id": "OkkWgyLMTq41",
        "colab_type": "code",
        "colab": {
          "base_uri": "https://localhost:8080/",
          "height": 812
        },
        "outputId": "e9a4e0e8-6c1a-4867-e2a1-63cc7dd81272"
      },
      "cell_type": "code",
      "source": [
        "import os\n",
        "path = os.listdir('.')\n",
        "path.sort(key=str)\n",
        "fold = path[:12]\n",
        "#print(fold)\n",
        "\n",
        "for j in range(100):\n",
        "  X1 = []\n",
        "  X2 = []\n",
        "  #X3 = []\n",
        "  for i in range(50):\n",
        "      a = np.random.randint(0,len(fold))\n",
        "      fold1 = os.listdir(fold[a])\n",
        "      fold1.sort(key=str.lower)\n",
        "      #fold2 = os.listdir(fold[b])\n",
        "      #fold2.sort(key=str.lower)\n",
        "      #print(len(fold1))\n",
        "      c,d = random.sample(range(0,len(fold1[:-1])),2)\n",
        "      #e = np.random.randint(0,len(fold2[:-1]))\n",
        "      #print(c==d)\n",
        "      img1 = np.asarray(cv2.imread(fold[a]+'/'+fold1[c],1))\n",
        "      ran = np.random.randint(0,100)\n",
        "      img1 = img1[ran:ran+224,ran:ran+224] \n",
        "      img2 = np.asarray(cv2.imread(fold[a]+'/'+fold1[d],1))\n",
        "      ran = np.random.randint(0,100)\n",
        "      img2 = img2[ran:ran+224,ran:ran+224]\n",
        "      #img3 = np.asarray(cv2.imread(fold[b]+'/'+fold2[e],1))\n",
        "      #ran = np.random.randint(0,100)\n",
        "      #img3 = img3[ran:ran+224,ran:ran+224]\n",
        "      #print(img1.shape,img2.shape,img3.shape)\n",
        "      #print(img1.all() == img2.all())\n",
        "      if(len(img1.shape) == 3 and len(img2.shape) == 3):\n",
        "        X1.append(img1)\n",
        "        X2.append(img2)  \n",
        "        #X3.append(img3)\n",
        "        \n",
        "  X1 = np.asarray(X1)\n",
        "  #print(X1.shape)\n",
        "  X2 = np.asarray(X2)\n",
        "  #X3 = np.asarray(X3)\n",
        "  \n",
        "  y1 = np.zeros((50, 112, 112, 64))\n",
        "  y2 = np.zeros((50, 56, 56, 128))\n",
        "  y3 = np.zeros((50, 28, 28, 256))\n",
        "  y4 = np.zeros((50, 14, 14, 512))\n",
        "  y5 = np.zeros((50, 7, 7, 512))\n",
        "  \n",
        "  y = [y1,y2,y3,y4,y5]\n",
        "  #print(y.shape)\n",
        "  m.fit([X1,X2],y,epochs=5,batch_size=1)\n",
        "  m.save('siam+style_vgg_art_model.h5')"
      ],
      "execution_count": 307,
      "outputs": [
        {
          "output_type": "stream",
          "text": [
            "Epoch 1/5\n",
            "50/50 [==============================] - 11s 223ms/step - loss: 1430700753.4400 - concatenate_243_loss: 526581754.4500 - concatenate_244_loss: 683572782.4486 - concatenate_245_loss: 220489737.0800 - concatenate_246_loss: 56435.0931 - concatenate_247_loss: 1.6181\n",
            "Epoch 2/5\n",
            "50/50 [==============================] - 10s 191ms/step - loss: 193492426.3725 - concatenate_243_loss: 193417198.7750 - concatenate_244_loss: 75227.1899 - concatenate_245_loss: 0.0387 - concatenate_246_loss: 0.0000e+00 - concatenate_247_loss: 0.0000e+00\n",
            "Epoch 3/5\n",
            "50/50 [==============================] - 10s 192ms/step - loss: 119468913.1400 - concatenate_243_loss: 119463499.2225 - concatenate_244_loss: 5413.6732 - concatenate_245_loss: 0.0024 - concatenate_246_loss: 0.0000e+00 - concatenate_247_loss: 0.0000e+00\n",
            "Epoch 4/5\n",
            "50/50 [==============================] - 10s 191ms/step - loss: 83474776.9663 - concatenate_243_loss: 83472458.4813 - concatenate_244_loss: 2318.8899 - concatenate_245_loss: 0.0014 - concatenate_246_loss: 0.0000e+00 - concatenate_247_loss: 0.0000e+00\n",
            "Epoch 5/5\n",
            "50/50 [==============================] - 10s 192ms/step - loss: 60352293.5138 - concatenate_243_loss: 60350963.7463 - concatenate_244_loss: 1329.8614 - concatenate_245_loss: 0.0010 - concatenate_246_loss: 0.0000e+00 - concatenate_247_loss: 0.0000e+00\n"
          ],
          "name": "stdout"
        },
        {
          "output_type": "error",
          "ename": "KeyboardInterrupt",
          "evalue": "ignored",
          "traceback": [
            "\u001b[0;31m---------------------------------------------------------------------------\u001b[0m",
            "\u001b[0;31mKeyboardInterrupt\u001b[0m                         Traceback (most recent call last)",
            "\u001b[0;32m<ipython-input-307-afaa88025e52>\u001b[0m in \u001b[0;36m<module>\u001b[0;34m()\u001b[0m\n\u001b[1;32m     49\u001b[0m   \u001b[0;31m#print(y.shape)\u001b[0m\u001b[0;34m\u001b[0m\u001b[0;34m\u001b[0m\u001b[0m\n\u001b[1;32m     50\u001b[0m   \u001b[0mm\u001b[0m\u001b[0;34m.\u001b[0m\u001b[0mfit\u001b[0m\u001b[0;34m(\u001b[0m\u001b[0;34m[\u001b[0m\u001b[0mX1\u001b[0m\u001b[0;34m,\u001b[0m\u001b[0mX2\u001b[0m\u001b[0;34m]\u001b[0m\u001b[0;34m,\u001b[0m\u001b[0my\u001b[0m\u001b[0;34m,\u001b[0m\u001b[0mepochs\u001b[0m\u001b[0;34m=\u001b[0m\u001b[0;36m5\u001b[0m\u001b[0;34m,\u001b[0m\u001b[0mbatch_size\u001b[0m\u001b[0;34m=\u001b[0m\u001b[0;36m1\u001b[0m\u001b[0;34m)\u001b[0m\u001b[0;34m\u001b[0m\u001b[0m\n\u001b[0;32m---> 51\u001b[0;31m   \u001b[0mm\u001b[0m\u001b[0;34m.\u001b[0m\u001b[0msave\u001b[0m\u001b[0;34m(\u001b[0m\u001b[0;34m'siam+style_vgg_art_model.h5'\u001b[0m\u001b[0;34m)\u001b[0m\u001b[0;34m\u001b[0m\u001b[0m\n\u001b[0m",
            "\u001b[0;32m/usr/local/lib/python3.6/dist-packages/keras/engine/topology.py\u001b[0m in \u001b[0;36msave\u001b[0;34m(self, filepath, overwrite, include_optimizer)\u001b[0m\n\u001b[1;32m   2589\u001b[0m         \"\"\"\n\u001b[1;32m   2590\u001b[0m         \u001b[0;32mfrom\u001b[0m \u001b[0;34m.\u001b[0m\u001b[0;34m.\u001b[0m\u001b[0mmodels\u001b[0m \u001b[0;32mimport\u001b[0m \u001b[0msave_model\u001b[0m\u001b[0;34m\u001b[0m\u001b[0m\n\u001b[0;32m-> 2591\u001b[0;31m         \u001b[0msave_model\u001b[0m\u001b[0;34m(\u001b[0m\u001b[0mself\u001b[0m\u001b[0;34m,\u001b[0m \u001b[0mfilepath\u001b[0m\u001b[0;34m,\u001b[0m \u001b[0moverwrite\u001b[0m\u001b[0;34m,\u001b[0m \u001b[0minclude_optimizer\u001b[0m\u001b[0;34m)\u001b[0m\u001b[0;34m\u001b[0m\u001b[0m\n\u001b[0m\u001b[1;32m   2592\u001b[0m \u001b[0;34m\u001b[0m\u001b[0m\n\u001b[1;32m   2593\u001b[0m     \u001b[0;32mdef\u001b[0m \u001b[0msave_weights\u001b[0m\u001b[0;34m(\u001b[0m\u001b[0mself\u001b[0m\u001b[0;34m,\u001b[0m \u001b[0mfilepath\u001b[0m\u001b[0;34m,\u001b[0m \u001b[0moverwrite\u001b[0m\u001b[0;34m=\u001b[0m\u001b[0;32mTrue\u001b[0m\u001b[0;34m)\u001b[0m\u001b[0;34m:\u001b[0m\u001b[0;34m\u001b[0m\u001b[0m\n",
            "\u001b[0;32m/usr/local/lib/python3.6/dist-packages/keras/models.py\u001b[0m in \u001b[0;36msave_model\u001b[0;34m(model, filepath, overwrite, include_optimizer)\u001b[0m\n\u001b[1;32m    193\u001b[0m                             \u001b[0mparam_dset\u001b[0m\u001b[0;34m[\u001b[0m\u001b[0;34m(\u001b[0m\u001b[0;34m)\u001b[0m\u001b[0;34m]\u001b[0m \u001b[0;34m=\u001b[0m \u001b[0mval\u001b[0m\u001b[0;34m\u001b[0m\u001b[0m\n\u001b[1;32m    194\u001b[0m                         \u001b[0;32melse\u001b[0m\u001b[0;34m:\u001b[0m\u001b[0;34m\u001b[0m\u001b[0m\n\u001b[0;32m--> 195\u001b[0;31m                             \u001b[0mparam_dset\u001b[0m\u001b[0;34m[\u001b[0m\u001b[0;34m:\u001b[0m\u001b[0;34m]\u001b[0m \u001b[0;34m=\u001b[0m \u001b[0mval\u001b[0m\u001b[0;34m\u001b[0m\u001b[0m\n\u001b[0m\u001b[1;32m    196\u001b[0m         \u001b[0mf\u001b[0m\u001b[0;34m.\u001b[0m\u001b[0mflush\u001b[0m\u001b[0;34m(\u001b[0m\u001b[0;34m)\u001b[0m\u001b[0;34m\u001b[0m\u001b[0m\n\u001b[1;32m    197\u001b[0m     \u001b[0;32mfinally\u001b[0m\u001b[0;34m:\u001b[0m\u001b[0;34m\u001b[0m\u001b[0m\n",
            "\u001b[0;32mh5py/_objects.pyx\u001b[0m in \u001b[0;36mh5py._objects.with_phil.wrapper\u001b[0;34m()\u001b[0m\n",
            "\u001b[0;32mh5py/_objects.pyx\u001b[0m in \u001b[0;36mh5py._objects.with_phil.wrapper\u001b[0;34m()\u001b[0m\n",
            "\u001b[0;32m/usr/local/lib/python3.6/dist-packages/h5py/_hl/dataset.py\u001b[0m in \u001b[0;36m__setitem__\u001b[0;34m(self, args, val)\u001b[0m\n\u001b[1;32m    630\u001b[0m         \u001b[0mmspace\u001b[0m \u001b[0;34m=\u001b[0m \u001b[0mh5s\u001b[0m\u001b[0;34m.\u001b[0m\u001b[0mcreate_simple\u001b[0m\u001b[0;34m(\u001b[0m\u001b[0mmshape_pad\u001b[0m\u001b[0;34m,\u001b[0m \u001b[0;34m(\u001b[0m\u001b[0mh5s\u001b[0m\u001b[0;34m.\u001b[0m\u001b[0mUNLIMITED\u001b[0m\u001b[0;34m,\u001b[0m\u001b[0;34m)\u001b[0m\u001b[0;34m*\u001b[0m\u001b[0mlen\u001b[0m\u001b[0;34m(\u001b[0m\u001b[0mmshape_pad\u001b[0m\u001b[0;34m)\u001b[0m\u001b[0;34m)\u001b[0m\u001b[0;34m\u001b[0m\u001b[0m\n\u001b[1;32m    631\u001b[0m         \u001b[0;32mfor\u001b[0m \u001b[0mfspace\u001b[0m \u001b[0;32min\u001b[0m \u001b[0mselection\u001b[0m\u001b[0;34m.\u001b[0m\u001b[0mbroadcast\u001b[0m\u001b[0;34m(\u001b[0m\u001b[0mmshape\u001b[0m\u001b[0;34m)\u001b[0m\u001b[0;34m:\u001b[0m\u001b[0;34m\u001b[0m\u001b[0m\n\u001b[0;32m--> 632\u001b[0;31m             \u001b[0mself\u001b[0m\u001b[0;34m.\u001b[0m\u001b[0mid\u001b[0m\u001b[0;34m.\u001b[0m\u001b[0mwrite\u001b[0m\u001b[0;34m(\u001b[0m\u001b[0mmspace\u001b[0m\u001b[0;34m,\u001b[0m \u001b[0mfspace\u001b[0m\u001b[0;34m,\u001b[0m \u001b[0mval\u001b[0m\u001b[0;34m,\u001b[0m \u001b[0mmtype\u001b[0m\u001b[0;34m,\u001b[0m \u001b[0mdxpl\u001b[0m\u001b[0;34m=\u001b[0m\u001b[0mself\u001b[0m\u001b[0;34m.\u001b[0m\u001b[0m_dxpl\u001b[0m\u001b[0;34m)\u001b[0m\u001b[0;34m\u001b[0m\u001b[0m\n\u001b[0m\u001b[1;32m    633\u001b[0m \u001b[0;34m\u001b[0m\u001b[0m\n\u001b[1;32m    634\u001b[0m     \u001b[0;32mdef\u001b[0m \u001b[0mread_direct\u001b[0m\u001b[0;34m(\u001b[0m\u001b[0mself\u001b[0m\u001b[0;34m,\u001b[0m \u001b[0mdest\u001b[0m\u001b[0;34m,\u001b[0m \u001b[0msource_sel\u001b[0m\u001b[0;34m=\u001b[0m\u001b[0;32mNone\u001b[0m\u001b[0;34m,\u001b[0m \u001b[0mdest_sel\u001b[0m\u001b[0;34m=\u001b[0m\u001b[0;32mNone\u001b[0m\u001b[0;34m)\u001b[0m\u001b[0;34m:\u001b[0m\u001b[0;34m\u001b[0m\u001b[0m\n",
            "\u001b[0;31mKeyboardInterrupt\u001b[0m: "
          ]
        }
      ]
    },
    {
      "metadata": {
        "id": "-jIcL8IvAALd",
        "colab_type": "text"
      },
      "cell_type": "markdown",
      "source": [
        "**Currently not able to handle batch size**"
      ]
    },
    {
      "metadata": {
        "id": "2vt5Wtr9ylvU",
        "colab_type": "code",
        "colab": {}
      },
      "cell_type": "code",
      "source": [
        ""
      ],
      "execution_count": 0,
      "outputs": []
    }
  ]
}