{
 "cells": [
  {
   "cell_type": "code",
   "execution_count": 1,
   "metadata": {
    "scrolled": true
   },
   "outputs": [
    {
     "name": "stdout",
     "output_type": "stream",
     "text": [
      "Collecting keras\n",
      "  Downloading Keras-2.1.1-py2.py3-none-any.whl (302kB)\n",
      "Requirement already satisfied: scipy>=0.14 in c:\\users\\vaibhavi jade\\anaconda3\\lib\\site-packages (from keras)\n",
      "Requirement already satisfied: six>=1.9.0 in c:\\users\\vaibhavi jade\\anaconda3\\lib\\site-packages (from keras)\n",
      "Requirement already satisfied: pyyaml in c:\\users\\vaibhavi jade\\anaconda3\\lib\\site-packages (from keras)\n",
      "Requirement already satisfied: numpy>=1.9.1 in c:\\users\\vaibhavi jade\\anaconda3\\lib\\site-packages (from keras)\n",
      "Installing collected packages: keras\n",
      "Successfully installed keras-2.1.1\n"
     ]
    }
   ],
   "source": [
    "!pip install keras\n",
    "#!pip install tqdm"
   ]
  },
  {
   "cell_type": "code",
   "execution_count": 18,
   "metadata": {},
   "outputs": [],
   "source": [
    "import numpy as np\n",
    "from keras import layers\n",
    "from keras.layers import Input, Dense, Activation, ZeroPadding2D, BatchNormalization, Flatten, Conv2D\n",
    "from keras.layers import AveragePooling2D, MaxPooling2D, Dropout, GlobalMaxPooling2D, GlobalAveragePooling2D\n",
    "from keras.models import Model\n",
    "from keras import regularizers\n",
    "from keras.preprocessing import image\n",
    "from keras.utils import layer_utils\n",
    "from keras.utils.data_utils import get_file\n",
    "from keras.applications.imagenet_utils import preprocess_input\n",
    "from keras.initializers import glorot_normal\n",
    "#import pydot\n",
    "from IPython.display import SVG\n",
    "from keras.utils.vis_utils import model_to_dot\n",
    "from keras.utils import plot_model\n",
    "#from kt_utils import *\n",
    "\n",
    "import keras.backend as K\n",
    "K.set_image_data_format('channels_last')\n",
    "import matplotlib.pyplot as plt\n",
    "from matplotlib.pyplot import imshow\n",
    "\n",
    "%matplotlib inline"
   ]
  },
  {
   "cell_type": "code",
   "execution_count": 3,
   "metadata": {},
   "outputs": [
    {
     "name": "stdout",
     "output_type": "stream",
     "text": [
      "(2997, 224, 224, 3)\n",
      "(2997, 12)\n",
      "(299, 224, 224, 3) (2698, 224, 224, 3)\n"
     ]
    }
   ],
   "source": [
    "import pickle\n",
    "pickle_off = open(\"dataX_final.pickle\",\"rb\")\n",
    "X = pickle.load(pickle_off)\n",
    "print(X.shape)\n",
    "pickle_on = open(\"dataY_final.pickle\",\"rb\")\n",
    "Y = pickle.load(pickle_on)\n",
    "print(Y.shape)\n",
    "p = np.random.permutation(X.shape[0])\n",
    "X = X[p]\n",
    "Y = Y[p]\n",
    "X_test_orig = X[2698:]\n",
    "X_train_orig = X[:2698]\n",
    "Y_test_orig = Y[2698:]\n",
    "Y_train_orig = Y[:2698]\n",
    "print(X_test_orig.shape, X_train_orig.shape)"
   ]
  },
  {
   "cell_type": "code",
   "execution_count": 4,
   "metadata": {},
   "outputs": [
    {
     "name": "stdout",
     "output_type": "stream",
     "text": [
      "100\n",
      "200\n",
      "300\n",
      "400\n",
      "500\n",
      "600\n",
      "700\n",
      "800\n",
      "900\n",
      "1000\n",
      "1100\n",
      "1200\n",
      "1300\n",
      "1400\n",
      "1500\n",
      "1600\n",
      "1700\n",
      "1800\n",
      "1900\n",
      "2000\n",
      "2100\n",
      "2200\n",
      "2300\n",
      "2400\n",
      "2500\n",
      "2600\n",
      "number of training examples = 2698\n",
      "number of test examples = 299\n",
      "X_train shape: (2698, 224, 224, 3)\n",
      "Y_train shape: (2698, 12)\n",
      "X_test shape: (299, 224, 224, 3)\n",
      "Y_test shape: (299, 12)\n"
     ]
    }
   ],
   "source": [
    "#X_train_orig, Y_train_orig, X_test_orig, Y_test_orig, classes = load_dataset_new()\n",
    "X_train = X_train_orig\n",
    "X_test = X_test_orig\n",
    "# Normalize image vectors\n",
    "#X_train = X_train_orig/255.\n",
    "#X_test = X_test_orig/255.\n",
    "x = 0\n",
    "for i in X_train:\n",
    "    i = i/255\n",
    "    x +=1\n",
    "    if x%100 == 0:\n",
    "        print(x)\n",
    "for i in X_test:\n",
    "    i = i/255\n",
    "\n",
    "Y_train = Y_train_orig\n",
    "Y_test = Y_test_orig\n",
    "\n",
    "print (\"number of training examples = \" + str(X_train.shape[0]))\n",
    "print (\"number of test examples = \" + str(X_test.shape[0]))\n",
    "print (\"X_train shape: \" + str(X_train.shape))\n",
    "print (\"Y_train shape: \" + str(Y_train.shape))\n",
    "print (\"X_test shape: \" + str(X_test.shape))\n",
    "print (\"Y_test shape: \" + str(Y_test.shape))"
   ]
  },
  {
   "cell_type": "code",
   "execution_count": 11,
   "metadata": {
    "collapsed": true
   },
   "outputs": [],
   "source": [
    "def base_model(input_shape,classes = 12):\n",
    "    \"\"\"\n",
    "    Implementation of the BaseModel.\n",
    "    \n",
    "    Arguments:\n",
    "    input_shape -- shape of the images of the dataset\n",
    "\n",
    "    Returns:\n",
    "    model -- a Model() instance in Keras\n",
    "    \"\"\" \n",
    "    X_input = Input(input_shape)\n",
    "    \n",
    "    #padding of 1\n",
    "    X = ZeroPadding2D(padding=(1, 1))\n",
    "    \n",
    "    # conv layer no padding 3x3  32 filters stride=1\n",
    "    X = Conv2D(32,(3,3),strides=(2,2),name='conv0')(X_input)\n",
    "    X = BatchNormalization(axis = 3, name='bn0')(X)\n",
    "    X = layers.LeakyReLU(alpha=0.3)(X)\n",
    "    \n",
    "    #pooling layer(max 2x2 stride 2)\n",
    "    X = MaxPooling2D((2,2),name='maxpool0')(X)\n",
    "    \n",
    "    #padding of 1\n",
    "    X = ZeroPadding2D(padding = (1,1))\n",
    "    \n",
    "    # conv layer no padding 3x3  32 filters stride=1\n",
    "    X = Conv2D(32,(3,3),strides=(2,2),name='conv1')(X_input)\n",
    "    X = BatchNormalization(axis = 3, name='bn1')(X)\n",
    "    X = layers.LeakyReLU(alpha=0.3)(X)\n",
    "    \n",
    "    #pooling layer(max 2x2 stride 2)\n",
    "    X = MaxPooling2D((2,2),name='maxpool1')(X)\n",
    "    \n",
    "    #flatten()\n",
    "    X = Flatten()(X)\n",
    "    X = Dense(228,activation='relu',activity_regularizer= regularizers.l2(0.01) ,name='fc1', kernel_initializer = glorot_normal(seed=None))(X)\n",
    "    X = Dense(classes,activation='softmax',activity_regularizer= regularizers.l2(0.01) ,name='fc2')(X)\n",
    "    \n",
    "    model = Model(inputs = X_input, outputs = X, name='base_model')\n",
    "    ### END CODE HERE ###\n",
    "    \n",
    "    return model\n",
    "    "
   ]
  },
  {
   "cell_type": "code",
   "execution_count": 12,
   "metadata": {
    "collapsed": true
   },
   "outputs": [],
   "source": [
    "bsm = base_model((224,224,3))"
   ]
  },
  {
   "cell_type": "code",
   "execution_count": 13,
   "metadata": {
    "collapsed": true
   },
   "outputs": [],
   "source": [
    "bsm.compile(optimizer='adam', loss='categorical_crossentropy', metrics=['accuracy'])"
   ]
  },
  {
   "cell_type": "code",
   "execution_count": 14,
   "metadata": {},
   "outputs": [
    {
     "name": "stdout",
     "output_type": "stream",
     "text": [
      "Epoch 1/20\n",
      "2698/2698 [==============================] - 256s 95ms/step - loss: 431.2748 - acc: 0.1168\n",
      "Epoch 2/20\n",
      "2698/2698 [==============================] - 223s 83ms/step - loss: 2.5215 - acc: 0.1130\n",
      "Epoch 3/20\n",
      "2698/2698 [==============================] - 227s 84ms/step - loss: 2.5199 - acc: 0.1149\n",
      "Epoch 4/20\n",
      "2698/2698 [==============================] - 223s 83ms/step - loss: 2.5010 - acc: 0.1205\n",
      "Epoch 5/20\n",
      "2698/2698 [==============================] - 226s 84ms/step - loss: 2.4929 - acc: 0.1205\n",
      "Epoch 6/20\n",
      "2698/2698 [==============================] - 225s 83ms/step - loss: 2.4857 - acc: 0.1205\n",
      "Epoch 7/20\n",
      "2698/2698 [==============================] - 231s 86ms/step - loss: 2.4795 - acc: 0.1205\n",
      "Epoch 8/20\n",
      "2698/2698 [==============================] - 226s 84ms/step - loss: 2.4739 - acc: 0.1205\n",
      "Epoch 9/20\n",
      "2698/2698 [==============================] - 225s 83ms/step - loss: 2.4690 - acc: 0.1205\n",
      "Epoch 10/20\n",
      "2698/2698 [==============================] - 221s 82ms/step - loss: 2.4647 - acc: 0.1205\n",
      "Epoch 11/20\n",
      "2698/2698 [==============================] - 226s 84ms/step - loss: 2.4610 - acc: 0.1205\n",
      "Epoch 12/20\n",
      "2698/2698 [==============================] - 226s 84ms/step - loss: 2.4578 - acc: 0.1205\n",
      "Epoch 13/20\n",
      "2698/2698 [==============================] - 221s 82ms/step - loss: 2.4550 - acc: 0.1205\n",
      "Epoch 14/20\n",
      "2698/2698 [==============================] - 221s 82ms/step - loss: 2.4526 - acc: 0.1205\n",
      "Epoch 15/20\n",
      "2698/2698 [==============================] - 223s 83ms/step - loss: 2.4503 - acc: 0.1205\n",
      "Epoch 16/20\n",
      "2698/2698 [==============================] - 241s 89ms/step - loss: 2.4485 - acc: 0.1205\n",
      "Epoch 17/20\n",
      "2698/2698 [==============================] - 247s 92ms/step - loss: 2.4468 - acc: 0.1205\n",
      "Epoch 18/20\n",
      "2698/2698 [==============================] - 238s 88ms/step - loss: 2.4453 - acc: 0.1205\n",
      "Epoch 19/20\n",
      "2698/2698 [==============================] - 227s 84ms/step - loss: 2.4440 - acc: 0.1205\n",
      "Epoch 20/20\n",
      "2698/2698 [==============================] - 226s 84ms/step - loss: 2.4428 - acc: 0.1205\n"
     ]
    },
    {
     "data": {
      "text/plain": [
       "<keras.callbacks.History at 0x4121d13908>"
      ]
     },
     "execution_count": 14,
     "metadata": {},
     "output_type": "execute_result"
    }
   ],
   "source": [
    "bsm.fit(x=X_train,y=Y_train,epochs=20,batch_size=64)"
   ]
  },
  {
   "cell_type": "code",
   "execution_count": 17,
   "metadata": {
    "collapsed": true
   },
   "outputs": [],
   "source": [
    "bsm.save(\"my_model\")"
   ]
  },
  {
   "cell_type": "code",
   "execution_count": 14,
   "metadata": {
    "collapsed": true
   },
   "outputs": [],
   "source": [
    "from sklearn import datasets, svm, metrics\n",
    "classifier = svm.SVC(gamma=0.001)"
   ]
  },
  {
   "cell_type": "code",
   "execution_count": 26,
   "metadata": {},
   "outputs": [
    {
     "data": {
      "text/plain": [
       "(406124544,)"
      ]
     },
     "execution_count": 26,
     "metadata": {},
     "output_type": "execute_result"
    }
   ],
   "source": [
    "type(X_train)\n",
    "twoX_train.shape"
   ]
  },
  {
   "cell_type": "code",
   "execution_count": 35,
   "metadata": {},
   "outputs": [
    {
     "data": {
      "text/plain": [
       "(150528,)"
      ]
     },
     "execution_count": 35,
     "metadata": {},
     "output_type": "execute_result"
    }
   ],
   "source": [
    "twoX_train =[]\n",
    "twoY_train =[]\n",
    "for i in X_train:\n",
    "    twoX_train.append(i.flatten())\n",
    "for i in Y_train:\n",
    "    twoY_train.append(i.flatten())\n",
    "    \n",
    "(twoX_train[1].shape)"
   ]
  },
  {
   "cell_type": "code",
   "execution_count": null,
   "metadata": {
    "collapsed": true
   },
   "outputs": [],
   "source": [
    "classifier.fit(twoX_train,twoY_train)"
   ]
  }
 ],
 "metadata": {
  "kernelspec": {
   "display_name": "Python 3",
   "language": "python",
   "name": "python3"
  },
  "language_info": {
   "codemirror_mode": {
    "name": "ipython",
    "version": 3
   },
   "file_extension": ".py",
   "mimetype": "text/x-python",
   "name": "python",
   "nbconvert_exporter": "python",
   "pygments_lexer": "ipython3",
   "version": "3.6.0"
  }
 },
 "nbformat": 4,
 "nbformat_minor": 2
}
